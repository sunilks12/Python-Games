{
  "nbformat": 4,
  "nbformat_minor": 0,
  "metadata": {
    "colab": {
      "provenance": [],
      "authorship_tag": "ABX9TyPG9FagaTVBcsMbxLWnM2ow"
    },
    "kernelspec": {
      "name": "python3",
      "display_name": "Python 3"
    },
    "language_info": {
      "name": "python"
    }
  },
  "cells": [
    {
      "cell_type": "code",
      "execution_count": 1,
      "metadata": {
        "colab": {
          "base_uri": "https://localhost:8080/"
        },
        "id": "9uvR15hpNMEn",
        "outputId": "512938f1-c066-4d4c-80ea-c84544285455"
      },
      "outputs": [
        {
          "output_type": "stream",
          "name": "stdout",
          "text": [
            "Enter the number of teams in the tournament: 3\n",
            "Enter the name for team #1: Texas\n",
            "Enter the name for team #2: Alabama\n",
            "Enter the name for team #3: Arizona\n",
            "Enter the number of games played by each team: 2\n",
            "Enter the number of wins Team Texas had: 1\n",
            "Enter the number of wins Team Alabama had: 2\n",
            "Enter the number of wins Team Arizona had: 1\n",
            "Generating the games to be played in the first round of the tournament...\n",
            "Home: Texas VS Away: Alabama\n"
          ]
        }
      ],
      "source": [
        "def get_number_of_teams():\n",
        "    while True:\n",
        "        num_teams = int(input(\"Enter the number of teams in the tournament: \"))\n",
        "\n",
        "        if num_teams >= 2:\n",
        "            break\n",
        "\n",
        "        print(\"The minimum number of teams is 2, try again.\")\n",
        "\n",
        "    return num_teams\n",
        "\n",
        "\n",
        "def get_team_names(num_teams):\n",
        "    team_names = []\n",
        "\n",
        "    for idx in range(num_teams):\n",
        "        while True:\n",
        "            team_name = input(f\"Enter the name for team #{idx + 1}: \")\n",
        "            num_words = len(team_name.split(\" \"))\n",
        "\n",
        "            if num_words > 2:\n",
        "                print(\"Team names may have at most 2 words, try again.\")\n",
        "            elif len(team_name) < 2:\n",
        "                print(\"Team names must have at least 2 characters, try again.\")\n",
        "            else:\n",
        "                break\n",
        "\n",
        "        team_names.append(team_name)\n",
        "\n",
        "    return team_names\n",
        "\n",
        "\n",
        "def get_number_of_games_played(num_teams):\n",
        "    while True:\n",
        "        games_played = int(\n",
        "            input(\"Enter the number of games played by each team: \"))\n",
        "\n",
        "        if games_played >= num_teams - 1:\n",
        "            break\n",
        "\n",
        "        print(\"Invalid number of games. Each team plays each other at least once in the regular season, try again.\")\n",
        "\n",
        "    return games_played\n",
        "\n",
        "\n",
        "def get_team_wins(team_names, games_played):\n",
        "    team_wins = []\n",
        "\n",
        "    for team in team_names:\n",
        "        while True:\n",
        "            wins = int(input(f\"Enter the number of wins Team {team} had: \"))\n",
        "\n",
        "            if wins > games_played:\n",
        "                print(\n",
        "                    f\"The maximum number of wins is {games_played}, try again.\")\n",
        "            elif wins < 0:\n",
        "                print(\"The minimum number of wins is 0, try again.\")\n",
        "            else:\n",
        "                break\n",
        "\n",
        "        team_wins.append((team, wins))\n",
        "\n",
        "    return team_wins\n",
        "\n",
        "\n",
        "def get_second_item(item):\n",
        "    return item[1]\n",
        "\n",
        "\n",
        "num_teams = get_number_of_teams()\n",
        "team_names = get_team_names(num_teams)\n",
        "games_played = get_number_of_games_played(num_teams)\n",
        "team_wins = get_team_wins(team_names, games_played)\n",
        "\n",
        "print(\"Generating the games to be played in the first round of the tournament...\")\n",
        "sorted_teams = sorted(team_wins, key=get_second_item)\n",
        "game_pairings = []\n",
        "\n",
        "games_to_make = len(sorted_teams)//2\n",
        "\n",
        "for game_num in range(games_to_make):\n",
        "    home_team = sorted_teams[game_num][0]\n",
        "    away_team = sorted_teams[num_teams - 1 - game_num][0]\n",
        "    game_pairings.append([home_team, away_team])\n",
        "\n",
        "for pairing in game_pairings:\n",
        "    home_team, away_team = pairing\n",
        "    print(f\"Home: {home_team} VS Away: {away_team}\")\n"
      ]
    },
    {
      "cell_type": "code",
      "source": [],
      "metadata": {
        "id": "ZJAGpiAaNu6W"
      },
      "execution_count": null,
      "outputs": []
    }
  ]
}